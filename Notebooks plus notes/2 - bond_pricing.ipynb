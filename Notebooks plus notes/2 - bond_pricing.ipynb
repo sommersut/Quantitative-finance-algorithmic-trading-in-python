{
 "cells": [
  {
   "cell_type": "code",
   "execution_count": 2,
   "metadata": {},
   "outputs": [
    {
     "name": "stdout",
     "output_type": "stream",
     "text": [
      "Price of the zero-coupon bond: $889.00\n",
      "Price of the coupon bond: $1027.75\n"
     ]
    }
   ],
   "source": [
    "from math import exp\n",
    "\n",
    "#paga interest somente no final, uma vez\n",
    "def zero_bond_price(par_value,market_rate,n):\n",
    "\treturn par_value/(1+market_rate)**n\n",
    "\n",
    "# paga interest a cada período até o final\n",
    "def bond_price(par_value,coupon, market_rate,n):\n",
    "\tc = par_value*coupon\n",
    "\treturn c/market_rate*(1-(1/(1+market_rate)**n))+par_value/(1+market_rate)**n\n",
    "\t\n",
    "if __name__ == \"__main__\": # https://www.alura.com.br/artigos/o-que-significa-if-name-main-no-python\n",
    "    \n",
    "\tpar_value=1000   #par value of the bond\n",
    "\tcoupon=0.05\t\t #bond yield - coupon \n",
    "\tn=3\t \t\t\t #years\n",
    "\tmarket_rate=0.04 #market rate of return\n",
    "\t\n",
    "\tprint(\"Price of the zero-coupon bond: $%0.2f\" % zero_bond_price(par_value,market_rate,n))\n",
    "\tprint(\"Price of the coupon bond: $%0.2f\" % bond_price(par_value,coupon,market_rate,n))"
   ]
  },
  {
   "cell_type": "code",
   "execution_count": null,
   "metadata": {},
   "outputs": [],
   "source": []
  }
 ],
 "metadata": {
  "kernelspec": {
   "display_name": "Python 3",
   "language": "python",
   "name": "python3"
  },
  "language_info": {
   "codemirror_mode": {
    "name": "ipython",
    "version": 3
   },
   "file_extension": ".py",
   "mimetype": "text/x-python",
   "name": "python",
   "nbconvert_exporter": "python",
   "pygments_lexer": "ipython3",
   "version": "3.8.5"
  }
 },
 "nbformat": 4,
 "nbformat_minor": 4
}
