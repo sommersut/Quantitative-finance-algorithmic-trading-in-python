{
 "cells": [
  {
   "cell_type": "code",
   "execution_count": 1,
   "metadata": {},
   "outputs": [],
   "source": [
    "import numpy as np\n",
    "import pandas as pd\n",
    "from scipy.stats import norm\n",
    "import pandas_datareader.data as web\n",
    "import datetime"
   ]
  },
  {
   "cell_type": "code",
   "execution_count": 4,
   "metadata": {},
   "outputs": [
    {
     "name": "stdout",
     "output_type": "stream",
     "text": [
      "Value at risk is: $40645.75\n"
     ]
    }
   ],
   "source": [
    "#class 60\n",
    "#the question here: if I have USD 1.000.000 in citi stocks, whats the loss at 99% probability to lose some money tomorrow?\n",
    "\n",
    "#if we want to calculate VaR for tomorrow\n",
    "def value_at_risk(position, c, mu, sigma):\n",
    "\talpha=norm.ppf(1-c)\n",
    "\tvar = position*(mu-sigma*alpha)\n",
    "\treturn var\n",
    "\t\n",
    "#we want to calculate VaR in n days time 10days\n",
    "#we have to consider that the mean and standard deviation will change\n",
    "#mu = mu*n and sigma=sigma*sqrt(n) we have to use these tranformations\n",
    "def value_at_risk_long(S, c, mu, sigma,n):\n",
    "\talpha=norm.ppf(1-c)\n",
    "\tvar = S*(mu*n-sigma*alpha*np.sqrt(n))\n",
    "\treturn var\n",
    "\t\n",
    "if __name__ == \"__main__\":\n",
    "\t\n",
    "\t#historical data to approximate mean and standard deviation\n",
    "\tstart_date = datetime.datetime(2017,1,1)\n",
    "\tend_date = datetime.datetime(2021,1,5)\n",
    "\t\n",
    "\t#download stock related data from Yahoo Finance. CityBank\n",
    "\tciti = web.DataReader('C',data_source='yahoo',start=start_date,end=end_date)\n",
    "\t\n",
    "\t#we can use pct_change() to calculate daily returns\n",
    "\tciti['returns'] = citi['Adj Close'].pct_change()\n",
    "\t\n",
    "\tS = 1e6 \t#this is the investment (stocks or whatever)\n",
    "\tc=0.95\t\t#condifence level: this time it is 95%\n",
    "\t\n",
    "\t#we can assume daily returns to be normally sidtributed: mean and variance (standard deviation)\n",
    "\t#can describe the process\n",
    "\tmu = np.mean(citi['returns'])\n",
    "\tsigma = np.std(citi['returns'])\n",
    "\n",
    "\tprint('Value at risk is: $%0.2f' % value_at_risk(S,c,mu,sigma))\n",
    "\t\n",
    "\t\n"
   ]
  },
  {
   "cell_type": "code",
   "execution_count": null,
   "metadata": {},
   "outputs": [],
   "source": []
  }
 ],
 "metadata": {
  "kernelspec": {
   "display_name": "Python 3",
   "language": "python",
   "name": "python3"
  },
  "language_info": {
   "codemirror_mode": {
    "name": "ipython",
    "version": 3
   },
   "file_extension": ".py",
   "mimetype": "text/x-python",
   "name": "python",
   "nbconvert_exporter": "python",
   "pygments_lexer": "ipython3",
   "version": "3.8.5"
  }
 },
 "nbformat": 4,
 "nbformat_minor": 4
}
