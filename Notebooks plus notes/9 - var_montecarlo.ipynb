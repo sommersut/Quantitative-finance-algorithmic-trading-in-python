{
 "cells": [
  {
   "cell_type": "code",
   "execution_count": 1,
   "metadata": {},
   "outputs": [],
   "source": [
    "import numpy as np\n",
    "import pandas as pd\n",
    "from scipy.stats import norm\n",
    "import pandas_datareader.data as web\n",
    "import datetime\n",
    "import math"
   ]
  },
  {
   "cell_type": "code",
   "execution_count": 3,
   "metadata": {},
   "outputs": [
    {
     "name": "stdout",
     "output_type": "stream",
     "text": [
      "Value at risk with Monte-Carlo simulation: $39286.57\n"
     ]
    }
   ],
   "source": [
    "#calss 61\n",
    "\n",
    "class ValueAtRiskMonteCarlo:\n",
    "    \n",
    "\tdef __init__(self, S, mu, sigma, c, n, iterations):\n",
    "\t\tself.S = S\n",
    "\t\tself.mu = mu\n",
    "\t\tself.sigma = sigma\n",
    "\t\tself.c = c\n",
    "\t\tself.n = n\n",
    "\t\tself.iterations = iterations \n",
    "\t\n",
    "\tdef simulation(self):\n",
    "\t\t\n",
    "\t\tstock_data = np.zeros([self.iterations, 1])\t\n",
    "\t\trand = np.random.normal(0, 1, [1, self.iterations])\n",
    "\t\t\n",
    "\t\t#equation for the S(t) stock price\n",
    "\t\tstock_price = self.S*np.exp(self.n*(self.mu - 0.5*self.sigma**2)+self.sigma*np.sqrt(self.n)*rand)\n",
    "\t\t\n",
    "\t\t#we have to sort the stock prices to determine the percentile\n",
    "\t\tstock_price = np.sort(stock_price)\n",
    " \n",
    "\t\t#it depends on the confidence level: 95% -> 5 and 99% -> 1\n",
    "\t\tpercentile = np.percentile(stock_price,(1-self.c)*100)\n",
    "\t\t\n",
    "\t\treturn self.S-percentile\n",
    "\n",
    "if __name__ == \"__main__\":\n",
    "\t\n",
    "\tS = 1e6 \t\t    #this is the investment (stocks or whatever)\n",
    "\tc=0.95\t\t\t    #condifence level: this time it is 99%\n",
    "\tn = 1\t\t\t    #1 day \n",
    "\titerations = 100000 #number of paths in the Monte-Carlo simulation\n",
    "\t\n",
    "\t#historical data to approximate mean and standard deviation\n",
    "\tstart_date = datetime.datetime(2017,1,1)\n",
    "\tend_date = datetime.datetime(2021,1,5)\n",
    "\t\n",
    "\t#download stock related data from Yahoo Finance\n",
    "\tciti = web.DataReader('C',data_source='yahoo',start=start_date,end=end_date)\n",
    "\t\n",
    "\t#we can use pct_change() to calculate daily returns\n",
    "\tciti['returns'] = citi['Adj Close'].pct_change()\n",
    "\t\n",
    "\t#we can assume daily returns to be normally sidtributed: mean and variance (standard deviation)\n",
    "\t#can describe the process\n",
    "\tmu = np.mean(citi['returns'])\n",
    "\tsigma = np.std(citi['returns'])\n",
    "\n",
    "\tmodel = ValueAtRiskMonteCarlo(S,mu,sigma,c,n,iterations)\n",
    "\t\n",
    "\tprint('Value at risk with Monte-Carlo simulation: $%0.2f' % model.simulation())\n",
    "\t\n",
    "\t"
   ]
  },
  {
   "cell_type": "code",
   "execution_count": null,
   "metadata": {},
   "outputs": [],
   "source": []
  }
 ],
 "metadata": {
  "kernelspec": {
   "display_name": "Python 3",
   "language": "python",
   "name": "python3"
  },
  "language_info": {
   "codemirror_mode": {
    "name": "ipython",
    "version": 3
   },
   "file_extension": ".py",
   "mimetype": "text/x-python",
   "name": "python",
   "nbconvert_exporter": "python",
   "pygments_lexer": "ipython3",
   "version": "3.8.5"
  }
 },
 "nbformat": 4,
 "nbformat_minor": 4
}
