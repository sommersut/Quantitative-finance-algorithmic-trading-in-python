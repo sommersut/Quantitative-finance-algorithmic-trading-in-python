{
 "cells": [
  {
   "cell_type": "code",
   "execution_count": 1,
   "metadata": {},
   "outputs": [],
   "source": [
    "import numpy as np\n",
    "import pandas as pd\n",
    "from datetime import datetime\n",
    "from sklearn.linear_model import LogisticRegression\n",
    "import numpy as np\n",
    "import pandas as pd\n",
    "import sklearn\n",
    "import pandas_datareader.data as web\n",
    "from sklearn.linear_model import LogisticRegression\n",
    "from sklearn.metrics import confusion_matrix"
   ]
  },
  {
   "cell_type": "code",
   "execution_count": 3,
   "metadata": {},
   "outputs": [],
   "source": [
    "#class 64\n",
    "\n",
    "def create_dataset(stock_symbol, start_date, end_date, lags=5):\n",
    "\n",
    "    #fetch the stock data from Yahoo Finance\n",
    "\tdf = web.DataReader(stock_symbol,\"yahoo\",start_date,end_date)\n",
    "\n",
    "    #create a new dataframe\n",
    "\t#we want to use additional features: lagged returns...today's returns, yesterday's returns etc\n",
    "\ttslag = pd.DataFrame(index=df.index)\n",
    "\ttslag[\"Today\"] = df[\"Adj Close\"]\n",
    "\ttslag[\"Volume\"] = df[\"Volume\"]\n",
    "\n",
    "    # Create the shifted lag series of prior trading period close values\n",
    "\tfor i in range(0, lags):\n",
    "\t\ttslag[\"Lag%s\" % str(i+1)] = df[\"Adj Close\"].shift(i+1)\n",
    "\n",
    "    #create the returns DataFrame\n",
    "\tdfret = pd.DataFrame(index=tslag.index)\n",
    "\tdfret[\"Volume\"] = tslag[\"Volume\"]\n",
    "\tdfret[\"Today\"] = tslag[\"Today\"].pct_change()*100\n",
    "\n",
    "    #create the lagged percentage returns columns\n",
    "\tfor i in range(0, lags):\n",
    "\t\tdfret[\"Lag%s\" % str(i+1)] = tslag[\"Lag%s\" % str(i+1)].pct_change()*100\n",
    "\n",
    "    #\"Direction\" column (+1 or -1) indicating an up/down day. It will put +1 -1  in data form train set\n",
    "\tdfret[\"Direction\"] = np.sign(dfret[\"Today\"])\n",
    "\t\n",
    "\t#because of the shifts there are NaN values ... we want to get rid of those NaNs\n",
    "\tdfret.drop(dfret.index[:6], inplace=True)\n",
    "\t\n",
    "\treturn dfret\n",
    "\t"
   ]
  },
  {
   "cell_type": "code",
   "execution_count": 6,
   "metadata": {},
   "outputs": [
    {
     "name": "stdout",
     "output_type": "stream",
     "text": [
      "                 Volume     Today      Lag1      Lag2      Lag3      Lag4  \\\n",
      "Date                                                                        \n",
      "2012-01-11  215084800.0 -0.163073  0.358061 -0.158612  1.045371  1.110224   \n",
      "2012-01-12  212587200.0 -0.274484 -0.163073  0.358061 -0.158612  1.045371   \n",
      "2012-01-13  226021600.0 -0.374966 -0.274484 -0.163073  0.358061 -0.158612   \n",
      "2012-01-17  242897200.0  1.164834 -0.374966 -0.274484 -0.163073  0.358061   \n",
      "2012-01-18  276791200.0  1.038362  1.164834 -0.374966 -0.274484 -0.163073   \n",
      "...                 ...       ...       ...       ...       ...       ...   \n",
      "2020-12-29  121047300.0 -1.331485  3.576571  0.771224 -0.697602  2.846455   \n",
      "2020-12-30   96452100.0 -0.852668 -1.331485  3.576571  0.771224 -0.697602   \n",
      "2020-12-31   98990400.0 -0.770265 -0.852668 -1.331485  3.576571  0.771224   \n",
      "2021-01-04  143301900.0 -2.471926 -0.770265 -0.852668 -1.331485  3.576571   \n",
      "2021-01-05   97664900.0  1.236373 -2.471926 -0.770265 -0.852668 -1.331485   \n",
      "\n",
      "                Lag5  Direction  \n",
      "Date                             \n",
      "2012-01-11  0.537448       -1.0  \n",
      "2012-01-12  1.110224       -1.0  \n",
      "2012-01-13  1.045371       -1.0  \n",
      "2012-01-17 -0.158612        1.0  \n",
      "2012-01-18  0.358061        1.0  \n",
      "...              ...        ...  \n",
      "2020-12-29  1.239533       -1.0  \n",
      "2020-12-30  2.846455       -1.0  \n",
      "2020-12-31 -0.697602       -1.0  \n",
      "2021-01-04  0.771224       -1.0  \n",
      "2021-01-05  3.576571        1.0  \n",
      "\n",
      "[2261 rows x 8 columns]\n",
      "Accuracy of logistic regression model: 0.553\n",
      "Confusion matrix: \n",
      "[[124   0 118]\n",
      " [  0   0   0]\n",
      " [331   2 434]]\n"
     ]
    }
   ],
   "source": [
    "\n",
    "if __name__ == \"__main__\":\n",
    "    \n",
    "\t# Create a lagged series of the S&P500 US stock market index\n",
    "\tdata = create_dataset(\"AAPL\", datetime(2012,1,1), datetime(2021,1,5), lags=5)\n",
    "\n",
    "    # Use the prior two days of returns as predictor ...using 4 features lag 1 price one day ago, lag 2 2 days ago...\n",
    "    # values, with direction as the response\n",
    "\tX = data[[\"Lag1\",\"Lag2\",\"Lag3\",\"Lag4\"]]\n",
    "\ty = data[\"Direction\"]\n",
    "\n",
    "    # The test data is split into two parts: Before and after 1st Jan 2017\n",
    "\tstart_test = datetime(2017,1,1)\n",
    "\n",
    "    # Create training and test sets\n",
    "\tX_train = X[X.index < start_test]\n",
    "\tX_test = X[X.index >= start_test]\n",
    "\ty_train = y[y.index < start_test]\n",
    "\ty_test = y[y.index >= start_test]\n",
    "   \n",
    "    #we use Logistic Regression as the machine learning model\n",
    "\tmodel = LogisticRegression()                              \n",
    "\n",
    "    #train the model on the training set\n",
    "\tmodel.fit(X_train, y_train)\n",
    "\n",
    "    #make an array of predictions on the test set\n",
    "\tpred = model.predict(X_test)\n",
    "\n",
    "    #output the hit-rate and the confusion matrix for the model\n",
    "\tprint(\"Accuracy of logistic regression model: %0.3f\" % model.score(X_test, y_test))\n",
    "\tprint(\"Confusion matrix: \\n%s\" % confusion_matrix(pred, y_test))"
   ]
  },
  {
   "cell_type": "code",
   "execution_count": null,
   "metadata": {},
   "outputs": [],
   "source": [
    "#a little better than tossing a coin...50%"
   ]
  }
 ],
 "metadata": {
  "kernelspec": {
   "display_name": "Python 3",
   "language": "python",
   "name": "python3"
  },
  "language_info": {
   "codemirror_mode": {
    "name": "ipython",
    "version": 3
   },
   "file_extension": ".py",
   "mimetype": "text/x-python",
   "name": "python",
   "nbconvert_exporter": "python",
   "pygments_lexer": "ipython3",
   "version": "3.8.5"
  }
 },
 "nbformat": 4,
 "nbformat_minor": 4
}
