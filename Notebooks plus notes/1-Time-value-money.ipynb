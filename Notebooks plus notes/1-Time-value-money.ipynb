{
 "cells": [
  {
   "cell_type": "code",
   "execution_count": 1,
   "metadata": {},
   "outputs": [
    {
     "name": "stdout",
     "output_type": "stream",
     "text": [
      "Future value of $100 in 5 year (discrete model):  127.62815625000003\n",
      "Future value of $100 in 5 year (continuous model):  128.40254166877415\n",
      "Present value of $100 in 5 year (discrete model):  78.35261664684589\n",
      "Present value of $100 in 5 year (continuous model):  77.8800783071405\n"
     ]
    }
   ],
   "source": [
    "from math import exp\n",
    "\n",
    "def discrete_future_value(x,r,n):\n",
    "\treturn x*(1+r)**n\n",
    "\n",
    "def discrete_present_value(x,r,n):\n",
    "\treturn x*(1+r)**-n\n",
    "\t\n",
    "def continuous_future_value(x,r,t):\n",
    "\treturn x*exp(r*t)\n",
    "\t\n",
    "def continuous_present_value(x,r,t):\n",
    "\treturn x*exp(-r*t)\n",
    "\t\n",
    "if __name__ == \"__main__\":\n",
    "    \n",
    "\tx=100  #value of investment in dollars\n",
    "\tr=0.05 #interest rate\n",
    "\tn=5\t   #years\n",
    "\t\n",
    "\tprint(\"Future value of $100 in 5 year (discrete model): \", discrete_future_value(x,r,n))\n",
    "\tprint(\"Future value of $100 in 5 year (continuous model): \", continuous_future_value(x,r,n))\n",
    "\tprint(\"Present value of $100 in 5 year (discrete model): \", discrete_present_value(x,r,n))\n",
    "\tprint(\"Present value of $100 in 5 year (continuous model): \", continuous_present_value(x,r,n))\n",
    "\t\n"
   ]
  }
 ],
 "metadata": {
  "kernelspec": {
   "display_name": "Python 3",
   "language": "python",
   "name": "python3"
  },
  "language_info": {
   "codemirror_mode": {
    "name": "ipython",
    "version": 3
   },
   "file_extension": ".py",
   "mimetype": "text/x-python",
   "name": "python",
   "nbconvert_exporter": "python",
   "pygments_lexer": "ipython3",
   "version": "3.8.5"
  }
 },
 "nbformat": 4,
 "nbformat_minor": 4
}
