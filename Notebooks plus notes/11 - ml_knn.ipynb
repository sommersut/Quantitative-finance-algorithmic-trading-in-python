{
 "cells": [
  {
   "cell_type": "code",
   "execution_count": 1,
   "metadata": {},
   "outputs": [],
   "source": [
    "import numpy as np\n",
    "import pandas as pd\n",
    "from datetime import datetime\n",
    "from sklearn.linear_model import LogisticRegression\n",
    "import numpy as np\n",
    "import pandas as pd\n",
    "import sklearn\n",
    "import pandas_datareader.data as web\n",
    "from sklearn.neighbors import KNeighborsClassifier\n",
    "from sklearn.metrics import confusion_matrix"
   ]
  },
  {
   "cell_type": "code",
   "execution_count": 3,
   "metadata": {},
   "outputs": [
    {
     "name": "stdout",
     "output_type": "stream",
     "text": [
      "Accuracy of kNN model: 0.568\n",
      "Confusion matrix: \n",
      "[[197   0 176]\n",
      " [  0   0   0]\n",
      " [257   2 375]]\n"
     ]
    }
   ],
   "source": [
    "def create_dataset(stock_symbol, start_date, end_date, lags=5):\n",
    "\n",
    "    #fetch the stock data from Yahoo Finance\n",
    "\tdf = web.DataReader(stock_symbol,\"yahoo\",start_date,end_date)\n",
    "\n",
    "    #create a new dataframe\n",
    "\t#we want to use additional features: lagged returns...today's returns, yesterday's returns etc\n",
    "\ttslag = pd.DataFrame(index=df.index)\n",
    "\ttslag[\"Today\"] = df[\"Adj Close\"]\n",
    "\ttslag[\"Volume\"] = df[\"Volume\"]\n",
    "\n",
    "    # Create the shifted lag series of prior trading period close values\n",
    "\tfor i in range(0, lags):\n",
    "\t\ttslag[\"Lag%s\" % str(i+1)] = df[\"Adj Close\"].shift(i+1)\n",
    "\n",
    "    #create the returns DataFrame\n",
    "\tdfret = pd.DataFrame(index=tslag.index)\n",
    "\tdfret[\"Volume\"] = tslag[\"Volume\"]\n",
    "\tdfret[\"Today\"] = tslag[\"Today\"].pct_change()*100.0\n",
    "\n",
    "    #create the lagged percentage returns columns\n",
    "\tfor i in range(0, lags):\n",
    "\t\tdfret[\"Lag%s\" % str(i+1)] = tslag[\"Lag%s\" % str(i+1)].pct_change()*100.0\n",
    "\n",
    "    #\"Direction\" column (+1 or -1) indicating an up/down day\n",
    "\tdfret[\"Direction\"] = np.sign(dfret[\"Today\"])\n",
    "\n",
    "\t#because of the shifts there are NaN values ... we want to get rid of those NaNs\n",
    "\tdfret.drop(dfret.index[:5], inplace=True)\n",
    "\n",
    "\treturn dfret\n",
    "\n",
    "\n",
    "if __name__ == \"__main__\":\n",
    "    \n",
    "\t# Create a lagged series of the S&P500 US stock market index\n",
    "\tdata = create_dataset(\"AAPL\", datetime(2012,1,1), datetime(2021,1,1), lags=5)\n",
    "\n",
    "    # Use the prior two days of returns as predictor \n",
    "    # values, with direction as the response\n",
    "\tX = data[[\"Lag1\",\"Lag2\",\"Lag3\",\"Lag4\"]]\n",
    "\ty = data[\"Direction\"]\n",
    "\n",
    "    # The test data is split into two parts: Before and after 1st Jan 2017\n",
    "\tstart_test = datetime(2017,1,1)\n",
    "\n",
    "    # Create training and test sets\n",
    "\tX_train = X[X.index < start_test]\n",
    "\tX_test = X[X.index >= start_test]\n",
    "\ty_train = y[y.index < start_test]\n",
    "\ty_test = y[y.index >= start_test]\n",
    "   \n",
    "    #we use KNeighborsClassifier as the machine learning model. k=300\n",
    "\tmodel = KNeighborsClassifier(300)                              \n",
    "\n",
    "    #train the model on the training set\n",
    "\tmodel.fit(X_train, y_train)\n",
    "\n",
    "    #make an array of predictions on the test set\n",
    "\tpred = model.predict(X_test)\n",
    "\n",
    "    #output the hit-rate and the confusion matrix for the model\n",
    "\tprint(\"Accuracy of kNN model: %0.3f\" % model.score(X_test, y_test))\n",
    "\tprint(\"Confusion matrix: \\n%s\" % confusion_matrix(pred, y_test))"
   ]
  },
  {
   "cell_type": "code",
   "execution_count": null,
   "metadata": {},
   "outputs": [],
   "source": [
    "#toss a coin to your witcher..."
   ]
  }
 ],
 "metadata": {
  "kernelspec": {
   "display_name": "Python 3",
   "language": "python",
   "name": "python3"
  },
  "language_info": {
   "codemirror_mode": {
    "name": "ipython",
    "version": 3
   },
   "file_extension": ".py",
   "mimetype": "text/x-python",
   "name": "python",
   "nbconvert_exporter": "python",
   "pygments_lexer": "ipython3",
   "version": "3.8.5"
  }
 },
 "nbformat": 4,
 "nbformat_minor": 4
}
