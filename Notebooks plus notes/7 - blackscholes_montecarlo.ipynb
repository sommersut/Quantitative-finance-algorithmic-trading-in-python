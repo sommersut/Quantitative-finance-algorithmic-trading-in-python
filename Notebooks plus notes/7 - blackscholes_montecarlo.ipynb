{
 "cells": [
  {
   "cell_type": "code",
   "execution_count": 1,
   "metadata": {},
   "outputs": [],
   "source": [
    "import numpy as np\n",
    "import math\n",
    "import time"
   ]
  },
  {
   "cell_type": "code",
   "execution_count": 2,
   "metadata": {},
   "outputs": [
    {
     "name": "stdout",
     "output_type": "stream",
     "text": [
      "Call option price with Monte-Carlo approach:  10.464180382675815\n",
      "Put option price with Monte-Carlo approach:  5.577103112347396\n"
     ]
    }
   ],
   "source": [
    "#class 55\n",
    "\n",
    "class OptionPricing:\n",
    "    \n",
    "\tdef __init__(self,S0,E,T,rf,sigma,iterations):\n",
    "\t\tself.S0 = S0\n",
    "\t\tself.E = E\n",
    "\t\tself.T = T\n",
    "\t\tself.rf = rf\n",
    "\t\tself.sigma = sigma     \n",
    "\t\tself.iterations = iterations \n",
    " \n",
    "\tdef call_option_simulation(self):\n",
    "\t\t\n",
    "\t\t#we have 2 columns: first with 0s the second column will store the payoff\n",
    "\t\t#we need the first column of 0s: payoff function is max(0,S-E) for call option\n",
    "\t\toption_data = np.zeros([self.iterations, 2])\n",
    "\t\t\n",
    "\t\t#dimensions: 1 dimensional array with as many items as the itrations\n",
    "\t\trand = np.random.normal(0, 1, [1, self.iterations])\n",
    "\t\t\n",
    "\t\t#equation for the S(t) stock price\n",
    "\t\tstock_price = self.S0*np.exp(self.T*(self.rf - 0.5*self.sigma**2)+self.sigma*np.sqrt(self.T)*rand)\n",
    " \n",
    "\t\t#we need S-E because we have to calculate the max(S-E,0)\n",
    "\t\toption_data[:,1] = stock_price - self.E   \n",
    "        \n",
    "\t\t#average for the Monte-Carlo method\n",
    "\t\t#np.amax() returns the max(0,S-E) according to the formula\n",
    "\t\taverage = np.sum(np.amax(option_data, axis=1))/float(self.iterations)\n",
    " \n",
    "\t\t#have to use the exp(-rT) discount factor\n",
    "\t\treturn np.exp(-1.0*self.rf*self.T)*average\n",
    "\t\t\n",
    "\tdef put_option_simulation(self):\n",
    "\t\n",
    "\t\t#we have 2 columns: first with 0s the second column will store the payoff\n",
    "\t\t#we need the first column of 0s: payoff function is max(0,E-S) for put option\n",
    "\t\toption_data = np.zeros([self.iterations, 2])\n",
    "\t\t\n",
    "\t\t#dimensions: 1 dimensional array with as many items as the itrations\n",
    "\t\trand = np.random.normal(0, 1, [1, self.iterations])\n",
    "\t\t\n",
    "\t\t#equation for the S(t) stock price\n",
    "\t\tstock_price = self.S0*np.exp(self.T*(self.rf - 0.5*self.sigma**2)+self.sigma*np.sqrt(self.T)*rand)\n",
    " \n",
    "\t\t#we need E-S because we have to calculate the max(E-S,0)\n",
    "\t\toption_data[:,1] = self.E - stock_price  \n",
    "        \n",
    "\t\t#average for the Monte-Carlo method\n",
    "\t\t#np.amax() returns the max(0,E-S) according to the formula\n",
    "\t\taverage = np.sum(np.amax(option_data, axis=1))/float(self.iterations)\n",
    " \n",
    "\t\t#have to use the exp(-rT) discount factor\n",
    "\t\treturn np.exp(-1.0*self.rf*self.T)*average\n",
    "\n",
    "if __name__ == \"__main__\":\n",
    "\t\n",
    "\tS0=100\t\t\t\t\t#underlying stock price at t=0\n",
    "\tE=100\t\t\t\t\t#strike price\n",
    "\tT = 1\t\t\t\t\t#expiry\n",
    "\trf = 0.05\t\t\t\t#risk-free rate\n",
    "\tsigma=0.2\t\t\t\t#volatility of the underlying stock\n",
    "\titerations = 1000000\t#number of iterations in the Monte-Carlo simulation\t\n",
    "\t\n",
    "\tmodel = OptionPricing(S0,E,T,rf,sigma,iterations)\n",
    "\tprint(\"Call option price with Monte-Carlo approach: \", model.call_option_simulation()) \n",
    "\tprint(\"Put option price with Monte-Carlo approach: \", model.put_option_simulation())\n"
   ]
  },
  {
   "cell_type": "code",
   "execution_count": null,
   "metadata": {},
   "outputs": [],
   "source": []
  }
 ],
 "metadata": {
  "kernelspec": {
   "display_name": "Python 3",
   "language": "python",
   "name": "python3"
  },
  "language_info": {
   "codemirror_mode": {
    "name": "ipython",
    "version": 3
   },
   "file_extension": ".py",
   "mimetype": "text/x-python",
   "name": "python",
   "nbconvert_exporter": "python",
   "pygments_lexer": "ipython3",
   "version": "3.8.5"
  }
 },
 "nbformat": 4,
 "nbformat_minor": 4
}
