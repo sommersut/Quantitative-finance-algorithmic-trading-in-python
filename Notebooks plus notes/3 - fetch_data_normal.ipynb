{
 "cells": [
  {
   "cell_type": "code",
   "execution_count": 1,
   "metadata": {},
   "outputs": [
    {
     "data": {
      "image/png": "[encoded data removed]",
      "text/plain": [
       "<Figure size 432x288 with 1 Axes>"
      ]
     },
     "metadata": {
      "needs_background": "light"
     },
     "output_type": "display_data"
    }
   ],
   "source": [
    "import numpy as np\n",
    "import pandas_datareader.data as web\n",
    "import matplotlib.pyplot as plt\n",
    "\n",
    "stocks = ['AAPL']\n",
    "\n",
    "start_date='01/01/2001'\n",
    "end_date='01/01/2021'\n",
    "\n",
    "data = web.DataReader(stocks, data_source='yahoo', start=start_date, end=end_date)['Adj Close']\n",
    "\n",
    "daily_returns = (data/data.shift(1))-1\n",
    "#checando se os retornos diários tem distribuição nomral, para ser utilizado no modelo de portfolio\n",
    "daily_returns.hist(bins=100)\n",
    "plt.show()"
   ]
  },
  {
   "cell_type": "code",
   "execution_count": null,
   "metadata": {},
   "outputs": [],
   "source": []
  }
 ],
 "metadata": {
  "kernelspec": {
   "display_name": "Python 3",
   "language": "python",
   "name": "python3"
  },
  "language_info": {
   "codemirror_mode": {
    "name": "ipython",
    "version": 3
   },
   "file_extension": ".py",
   "mimetype": "text/x-python",
   "name": "python",
   "nbconvert_exporter": "python",
   "pygments_lexer": "ipython3",
   "version": "3.8.5"
  }
 },
 "nbformat": 4,
 "nbformat_minor": 4
}
