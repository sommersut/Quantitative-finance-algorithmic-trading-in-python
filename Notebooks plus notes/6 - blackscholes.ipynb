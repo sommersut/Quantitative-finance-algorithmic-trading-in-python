{
 "cells": [
  {
   "cell_type": "code",
   "execution_count": 1,
   "metadata": {},
   "outputs": [],
   "source": [
    "import pandas_datareader as pdr\n",
    "from pandas_datareader import data, wb\n",
    "from datetime import date\n",
    "import numpy as np\n",
    "import pandas as pd\n",
    "from scipy import log,exp,sqrt,stats"
   ]
  },
  {
   "cell_type": "code",
   "execution_count": 2,
   "metadata": {},
   "outputs": [
    {
     "name": "stdout",
     "output_type": "stream",
     "text": [
      "0.35000000000000003\n",
      "0.15000000000000002\n",
      "Call option price according to Black-Scholes model:  10.450583572185565\n",
      "Put option price according to Black-Scholes model:  5.573526022256971\n"
     ]
    },
    {
     "name": "stderr",
     "output_type": "stream",
     "text": [
      "<ipython-input-2-4b1e430610ba>:6: DeprecationWarning: scipy.log is deprecated and will be removed in SciPy 2.0.0, use numpy.lib.scimath.log instead\n",
      "  d1=(log(S/E)+(rf+sigma*sigma/2.0)*T)/(sigma*sqrt(T))\n",
      "<ipython-input-2-4b1e430610ba>:6: DeprecationWarning: scipy.sqrt is deprecated and will be removed in SciPy 2.0.0, use numpy.lib.scimath.sqrt instead\n",
      "  d1=(log(S/E)+(rf+sigma*sigma/2.0)*T)/(sigma*sqrt(T))\n",
      "<ipython-input-2-4b1e430610ba>:7: DeprecationWarning: scipy.sqrt is deprecated and will be removed in SciPy 2.0.0, use numpy.lib.scimath.sqrt instead\n",
      "  d2 = d1-sigma*sqrt(T)\n",
      "<ipython-input-2-4b1e430610ba>:11: DeprecationWarning: scipy.exp is deprecated and will be removed in SciPy 2.0.0, use numpy.exp instead\n",
      "  return S*stats.norm.cdf(d1)-E*exp(-rf*T)*stats.norm.cdf(d2)\n",
      "<ipython-input-2-4b1e430610ba>:15: DeprecationWarning: scipy.log is deprecated and will be removed in SciPy 2.0.0, use numpy.lib.scimath.log instead\n",
      "  d1=(log(S/E)+(rf+sigma*sigma/2.0)*T)/(sigma*sqrt(T))\n",
      "<ipython-input-2-4b1e430610ba>:15: DeprecationWarning: scipy.sqrt is deprecated and will be removed in SciPy 2.0.0, use numpy.lib.scimath.sqrt instead\n",
      "  d1=(log(S/E)+(rf+sigma*sigma/2.0)*T)/(sigma*sqrt(T))\n",
      "<ipython-input-2-4b1e430610ba>:16: DeprecationWarning: scipy.sqrt is deprecated and will be removed in SciPy 2.0.0, use numpy.lib.scimath.sqrt instead\n",
      "  d2 = d1-sigma*sqrt(T)\n",
      "<ipython-input-2-4b1e430610ba>:18: DeprecationWarning: scipy.exp is deprecated and will be removed in SciPy 2.0.0, use numpy.exp instead\n",
      "  return -S*stats.norm.cdf(-d1)+E*exp(-rf*T)*stats.norm.cdf(-d2)\n"
     ]
    }
   ],
   "source": [
    "#class 54\n",
    "#formula for d1 and d2 are blackpscholes parameters defined at calss 54 (as example)\n",
    "\n",
    "def blackscholes_call(S,E,T,rf,sigma):\n",
    "\t#first we have to calculate d1 and d2 parameters\n",
    "\td1=(log(S/E)+(rf+sigma*sigma/2.0)*T)/(sigma*sqrt(T))\n",
    "\td2 = d1-sigma*sqrt(T)\n",
    "\tprint(d1)\n",
    "\tprint(d2)\n",
    "\t#we need N(x) normal distribution function. Call option calculation\n",
    "\treturn S*stats.norm.cdf(d1)-E*exp(-rf*T)*stats.norm.cdf(d2)\n",
    "\n",
    "def blackscholes_put(S,E,T,rf,sigma):\n",
    "\t#first we have to calculate d1 and d2 parameters\n",
    "\td1=(log(S/E)+(rf+sigma*sigma/2.0)*T)/(sigma*sqrt(T))\n",
    "\td2 = d1-sigma*sqrt(T)\n",
    "\t#we need N(x) normal distribution function. Put option calculation\n",
    "\treturn -S*stats.norm.cdf(-d1)+E*exp(-rf*T)*stats.norm.cdf(-d2)\n",
    "\t\n",
    "if __name__ == \"__main__\":\n",
    "\t\n",
    "\tS0=100      #underlying stock price at t=0\n",
    "\tE=100\t\t#strike price\n",
    "\tT = 1\t\t#expiry 1=1year=365days\n",
    "\trf = 0.05 \t#risk-free rate\n",
    "\tsigma=0.2\t#volatility of the underlying stock\n",
    "\t\n",
    "\tprint(\"Call option price according to Black-Scholes model: \",blackscholes_call(S0,E,T,rf,sigma))\n",
    "\tprint(\"Put option price according to Black-Scholes model: \",blackscholes_put(S0,E,T,rf,sigma))"
   ]
  },
  {
   "cell_type": "code",
   "execution_count": null,
   "metadata": {},
   "outputs": [],
   "source": []
  }
 ],
 "metadata": {
  "kernelspec": {
   "display_name": "Python 3",
   "language": "python",
   "name": "python3"
  },
  "language_info": {
   "codemirror_mode": {
    "name": "ipython",
    "version": 3
   },
   "file_extension": ".py",
   "mimetype": "text/x-python",
   "name": "python",
   "nbconvert_exporter": "python",
   "pygments_lexer": "ipython3",
   "version": "3.8.5"
  }
 },
 "nbformat": 4,
 "nbformat_minor": 4
}
